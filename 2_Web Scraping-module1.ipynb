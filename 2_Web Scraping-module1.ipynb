{
 "cells": [
  {
   "cell_type": "code",
   "execution_count": 2,
   "id": "faba9fbb-e1aa-4b57-b16f-2945a1b2a2f5",
   "metadata": {},
   "outputs": [],
   "source": [
    "# Import required libraries\n",
    "import requests\n",
    "from bs4 import BeautifulSoup\n",
    "import pandas as pd\n"
   ]
  },
  {
   "cell_type": "code",
   "execution_count": 11,
   "id": "9808964a-176b-4bdf-8ed6-c18995b3d21a",
   "metadata": {},
   "outputs": [
    {
     "name": "stdout",
     "output_type": "stream",
     "text": [
      "Webpage downloaded successfully!\n"
     ]
    }
   ],
   "source": [
    "# URL containing the data\n",
    "import requests  \n",
    "url = \"https://cf-courses-data.s3.us.cloud-object-storage.appdomain.cloud/IBM-DA0321EN-SkillsNetwork/labs/datasets/Programming_Languages.html\"\n",
    "\n",
    "# Download the webpage\n",
    "response = requests.get(url)\n",
    "\n",
    "# Check if the request was successful\n",
    "if response.status_code == 200:\n",
    "    html_content = response.text\n",
    "    print(\"Webpage downloaded successfully!\")\n",
    "else:\n",
    "    print(f\"Failed to retrieve webpage. Status code: {response.status_code}\")\n"
   ]
  },
  {
   "cell_type": "code",
   "execution_count": 12,
   "id": "2b01fd3f-3199-499c-9300-6b5157191402",
   "metadata": {},
   "outputs": [
    {
     "name": "stdout",
     "output_type": "stream",
     "text": [
      "Webpage downloaded successfully!\n",
      "<!DOCTYPE html>\n",
      "<html lang=\"en\">\n",
      " <head>\n",
      "  <title>\n",
      "   Salary survey results of programming languages\n",
      "  </title>\n",
      "  <style>\n",
      "   table, th, td {\n",
      "  border: 1px solid black;\n",
      "}\n",
      "  </style>\n",
      " </head>\n",
      " <body>\n",
      "  \n"
     ]
    }
   ],
   "source": [
    "import requests\n",
    "from bs4 import BeautifulSoup  # <-- You missed importing this\n",
    "\n",
    "# URL containing the data\n",
    "url = \"https://cf-courses-data.s3.us.cloud-object-storage.appdomain.cloud/IBM-DA0321EN-SkillsNetwork/labs/datasets/Programming_Languages.html\"\n",
    "\n",
    "# Download the webpage\n",
    "response = requests.get(url)\n",
    "\n",
    "# Check if the request was successful\n",
    "if response.status_code == 200:\n",
    "    html_content = response.text\n",
    "    print(\"Webpage downloaded successfully!\")\n",
    "\n",
    "    # Create a BeautifulSoup object\n",
    "    soup = BeautifulSoup(html_content, 'html.parser')\n",
    "\n",
    "    # Optional: Print the first 200 characters to preview the content\n",
    "    print(soup.prettify()[:200])\n",
    "\n",
    "else:\n",
    "    print(f\"Failed to retrieve webpage. Status code: {response.status_code}\")\n"
   ]
  },
  {
   "cell_type": "code",
   "execution_count": 15,
   "id": "11b67b48-35b1-466b-b1bf-40e261737596",
   "metadata": {},
   "outputs": [
    {
     "name": "stdout",
     "output_type": "stream",
     "text": [
      "Webpage downloaded successfully!\n",
      "  Programming Language Average Annual Salary\n",
      "0               Python              $114,383\n",
      "1                 Java              $101,013\n",
      "2                    R               $92,037\n",
      "3           Javascript              $110,981\n",
      "4                Swift              $130,801\n",
      "5                  C++              $113,865\n",
      "6                   C#               $88,726\n",
      "7                  PHP               $84,727\n",
      "8                  SQL               $84,793\n",
      "9                   Go               $94,082\n"
     ]
    }
   ],
   "source": [
    "import requests\n",
    "from bs4 import BeautifulSoup\n",
    "import pandas as pd\n",
    "\n",
    "# URL containing the data\n",
    "url = \"https://cf-courses-data.s3.us.cloud-object-storage.appdomain.cloud/IBM-DA0321EN-SkillsNetwork/labs/datasets/Programming_Languages.html\"\n",
    "\n",
    "# Download the webpage\n",
    "response = requests.get(url)\n",
    "\n",
    "# Check if the request was successful\n",
    "if response.status_code == 200:\n",
    "    html_content = response.text\n",
    "    print(\"Webpage downloaded successfully!\")\n",
    "\n",
    "    # Create a BeautifulSoup object\n",
    "    soup = BeautifulSoup(html_content, 'html.parser')\n",
    "\n",
    "    # Find the first table in the HTML\n",
    "    table = soup.find('table')\n",
    "\n",
    "    # Initialize lists to store the data\n",
    "    languages = []\n",
    "    salaries = []\n",
    "\n",
    "    # Loop through the table rows (skipping the header)\n",
    "    for row in table.find_all('tr')[1:]:  # Skip the first row (header)\n",
    "        cols = row.find_all('td')\n",
    "        if len(cols) >= 4:  # Ensure we have enough columns\n",
    "            language = cols[1].text.strip()  # Second column is 'Language'\n",
    "            salary = cols[3].text.strip()    # Fourth column is 'Average Annual Salary'\n",
    "            languages.append(language)\n",
    "            salaries.append(salary)\n",
    "\n",
    "    # Create a DataFrame to store the scraped data\n",
    "    df = pd.DataFrame({\n",
    "        'Programming Language': languages,\n",
    "        'Average Annual Salary': salaries\n",
    "    })\n",
    "\n",
    "    # Display the result\n",
    "    print(df)\n",
    "\n",
    "else:\n",
    "    print(f\"Failed to retrieve webpage. Status code: {response.status_code}\")\n"
   ]
  },
  {
   "cell_type": "code",
   "execution_count": 16,
   "id": "d04c1440-91cb-4fff-84a8-dbfac7837d02",
   "metadata": {},
   "outputs": [
    {
     "name": "stdout",
     "output_type": "stream",
     "text": [
      "Data has been saved to 'popular-languages.csv'\n"
     ]
    }
   ],
   "source": [
    "# Save the data to a CSV file\n",
    "df.to_csv('popular-languages.csv', index=False)\n",
    "\n",
    "print(\"Data has been saved to 'popular-languages.csv'\")\n"
   ]
  },
  {
   "cell_type": "code",
   "execution_count": 17,
   "id": "8c9cae02-91b5-44e4-8861-c265ed2149a1",
   "metadata": {},
   "outputs": [
    {
     "name": "stdout",
     "output_type": "stream",
     "text": [
      "  Programming Language Average Annual Salary\n",
      "0               Python              $114,383\n",
      "1                 Java              $101,013\n",
      "2                    R               $92,037\n",
      "3           Javascript              $110,981\n",
      "4                Swift              $130,801\n"
     ]
    }
   ],
   "source": [
    "print(df.head(5))"
   ]
  },
  {
   "cell_type": "code",
   "execution_count": 19,
   "id": "fe04b99c-4419-49a9-84c1-f3f521edb57d",
   "metadata": {},
   "outputs": [
    {
     "data": {
      "image/png": "[encoded data removed]",
      "text/plain": [
       "<Figure size 1000x600 with 1 Axes>"
      ]
     },
     "metadata": {},
     "output_type": "display_data"
    }
   ],
   "source": [
    "import pandas as pd\n",
    "import matplotlib.pyplot as plt\n",
    "\n",
    "# Load the CSV file into a DataFrame\n",
    "df = pd.read_csv('popular-languages.csv')\n",
    "\n",
    "# Remove the dollar sign and commas, and convert the salary to numeric\n",
    "df['Average Annual Salary'] = df['Average Annual Salary'].replace({r'\\$': '', r',': ''}, regex=True).astype(float)\n",
    "\n",
    "# Sort the DataFrame by 'Average Annual Salary' in descending order\n",
    "df_sorted = df.sort_values('Average Annual Salary', ascending=False)\n",
    "\n",
    "# Plotting the bar chart\n",
    "plt.figure(figsize=(10, 6))\n",
    "plt.barh(df_sorted['Programming Language'], df_sorted['Average Annual Salary'], color='skyblue')\n",
    "plt.xlabel('Average Annual Salary (USD)')\n",
    "plt.ylabel('Programming Language')\n",
    "plt.title('Programming Languages vs. Average Annual Salary')\n",
    "\n",
    "# Display the chart\n",
    "plt.show()\n"
   ]
  },
  {
   "cell_type": "code",
   "execution_count": null,
   "id": "7d15fab8-11a7-4506-914a-c76a14848c53",
   "metadata": {},
   "outputs": [],
   "source": []
  }
 ],
 "metadata": {
  "kernelspec": {
   "display_name": "Python 3 (ipykernel)",
   "language": "python",
   "name": "python3"
  },
  "language_info": {
   "codemirror_mode": {
    "name": "ipython",
    "version": 3
   },
   "file_extension": ".py",
   "mimetype": "text/x-python",
   "name": "python",
   "nbconvert_exporter": "python",
   "pygments_lexer": "ipython3",
   "version": "3.12.7"
  }
 },
 "nbformat": 4,
 "nbformat_minor": 5
}
