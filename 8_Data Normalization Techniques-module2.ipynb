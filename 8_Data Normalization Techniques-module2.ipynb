{
 "cells": [
  {
   "cell_type": "code",
   "execution_count": 1,
   "id": "c58417e2-7fd4-4338-be5e-48e6c22cf0b7",
   "metadata": {},
   "outputs": [],
   "source": [
    "import pandas as pd\n",
    "import matplotlib.pyplot as plt"
   ]
  },
  {
   "cell_type": "code",
   "execution_count": 2,
   "id": "5da3019d-ebc9-4209-8950-d7829b2a551d",
   "metadata": {},
   "outputs": [
    {
     "name": "stdout",
     "output_type": "stream",
     "text": [
      "   ResponseId                      MainBranch                 Age  \\\n",
      "0           1  I am a developer by profession  Under 18 years old   \n",
      "1           2  I am a developer by profession     35-44 years old   \n",
      "2           3  I am a developer by profession     45-54 years old   \n",
      "3           4           I am learning to code     18-24 years old   \n",
      "4           5  I am a developer by profession     18-24 years old   \n",
      "\n",
      "            Employment RemoteWork   Check  \\\n",
      "0  Employed, full-time     Remote  Apples   \n",
      "1  Employed, full-time     Remote  Apples   \n",
      "2  Employed, full-time     Remote  Apples   \n",
      "3   Student, full-time        NaN  Apples   \n",
      "4   Student, full-time        NaN  Apples   \n",
      "\n",
      "                                    CodingActivities  \\\n",
      "0                                              Hobby   \n",
      "1  Hobby;Contribute to open-source projects;Other...   \n",
      "2  Hobby;Contribute to open-source projects;Other...   \n",
      "3                                                NaN   \n",
      "4                                                NaN   \n",
      "\n",
      "                                             EdLevel  \\\n",
      "0                          Primary/elementary school   \n",
      "1       Bachelor’s degree (B.A., B.S., B.Eng., etc.)   \n",
      "2    Master’s degree (M.A., M.S., M.Eng., MBA, etc.)   \n",
      "3  Some college/university study without earning ...   \n",
      "4  Secondary school (e.g. American high school, G...   \n",
      "\n",
      "                                           LearnCode  \\\n",
      "0                             Books / Physical media   \n",
      "1  Books / Physical media;Colleague;On the job tr...   \n",
      "2  Books / Physical media;Colleague;On the job tr...   \n",
      "3  Other online resources (e.g., videos, blogs, f...   \n",
      "4  Other online resources (e.g., videos, blogs, f...   \n",
      "\n",
      "                                     LearnCodeOnline  ... JobSatPoints_6  \\\n",
      "0                                                NaN  ...            NaN   \n",
      "1  Technical documentation;Blogs;Books;Written Tu...  ...            0.0   \n",
      "2  Technical documentation;Blogs;Books;Written Tu...  ...            NaN   \n",
      "3  Stack Overflow;How-to videos;Interactive tutorial  ...            NaN   \n",
      "4  Technical documentation;Blogs;Written Tutorial...  ...            NaN   \n",
      "\n",
      "  JobSatPoints_7 JobSatPoints_8 JobSatPoints_9 JobSatPoints_10  \\\n",
      "0            NaN            NaN            NaN             NaN   \n",
      "1            0.0            0.0            0.0             0.0   \n",
      "2            NaN            NaN            NaN             NaN   \n",
      "3            NaN            NaN            NaN             NaN   \n",
      "4            NaN            NaN            NaN             NaN   \n",
      "\n",
      "  JobSatPoints_11           SurveyLength SurveyEase ConvertedCompYearly JobSat  \n",
      "0             NaN                    NaN        NaN                 NaN    NaN  \n",
      "1             0.0                    NaN        NaN                 NaN    NaN  \n",
      "2             NaN  Appropriate in length       Easy                 NaN    NaN  \n",
      "3             NaN               Too long       Easy                 NaN    NaN  \n",
      "4             NaN              Too short       Easy                 NaN    NaN  \n",
      "\n",
      "[5 rows x 114 columns]\n"
     ]
    }
   ],
   "source": [
    "file_path = \"https://cf-courses-data.s3.us.cloud-object-storage.appdomain.cloud/n01PQ9pSmiRX6520flujwQ/survey-data.csv\"\n",
    "\n",
    "df = pd.read_csv(file_path)\n",
    "\n",
    "# Display the first few rows to check if data is loaded correctly\n",
    "print(df.head())\n"
   ]
  },
  {
   "cell_type": "code",
   "execution_count": 3,
   "id": "9f03c706-cf8e-45bb-b0cd-871a9cf0fa26",
   "metadata": {},
   "outputs": [
    {
     "name": "stdout",
     "output_type": "stream",
     "text": [
      "Duplicate rows:\n",
      "Empty DataFrame\n",
      "Columns: [ResponseId, MainBranch, Age, Employment, RemoteWork, Check, CodingActivities, EdLevel, LearnCode, LearnCodeOnline, TechDoc, YearsCode, YearsCodePro, DevType, OrgSize, PurchaseInfluence, BuyNewTool, BuildvsBuy, TechEndorse, Country, Currency, CompTotal, LanguageHaveWorkedWith, LanguageWantToWorkWith, LanguageAdmired, DatabaseHaveWorkedWith, DatabaseWantToWorkWith, DatabaseAdmired, PlatformHaveWorkedWith, PlatformWantToWorkWith, PlatformAdmired, WebframeHaveWorkedWith, WebframeWantToWorkWith, WebframeAdmired, EmbeddedHaveWorkedWith, EmbeddedWantToWorkWith, EmbeddedAdmired, MiscTechHaveWorkedWith, MiscTechWantToWorkWith, MiscTechAdmired, ToolsTechHaveWorkedWith, ToolsTechWantToWorkWith, ToolsTechAdmired, NEWCollabToolsHaveWorkedWith, NEWCollabToolsWantToWorkWith, NEWCollabToolsAdmired, OpSysPersonal use, OpSysProfessional use, OfficeStackAsyncHaveWorkedWith, OfficeStackAsyncWantToWorkWith, OfficeStackAsyncAdmired, OfficeStackSyncHaveWorkedWith, OfficeStackSyncWantToWorkWith, OfficeStackSyncAdmired, AISearchDevHaveWorkedWith, AISearchDevWantToWorkWith, AISearchDevAdmired, NEWSOSites, SOVisitFreq, SOAccount, SOPartFreq, SOHow, SOComm, AISelect, AISent, AIBen, AIAcc, AIComplex, AIToolCurrently Using, AIToolInterested in Using, AIToolNot interested in Using, AINextMuch more integrated, AINextNo change, AINextMore integrated, AINextLess integrated, AINextMuch less integrated, AIThreat, AIEthics, AIChallenges, TBranch, ICorPM, WorkExp, Knowledge_1, Knowledge_2, Knowledge_3, Knowledge_4, Knowledge_5, Knowledge_6, Knowledge_7, Knowledge_8, Knowledge_9, Frequency_1, Frequency_2, Frequency_3, TimeSearching, TimeAnswering, Frustration, ProfessionalTech, ProfessionalCloud, ProfessionalQuestion, ...]\n",
      "Index: []\n",
      "\n",
      "[0 rows x 114 columns]\n",
      "Number of rows after removing duplicates: 65437\n"
     ]
    }
   ],
   "source": [
    "# Identify duplicate rows\n",
    "duplicate_rows = df[df.duplicated()]\n",
    "\n",
    "# Display the duplicate rows\n",
    "print(\"Duplicate rows:\")\n",
    "print(duplicate_rows)\n",
    "\n",
    "# Remove duplicate rows\n",
    "df_cleaned = df.drop_duplicates()\n",
    "\n",
    "# Display the shape of the cleaned DataFrame to verify the removal\n",
    "print(f\"Number of rows after removing duplicates: {df_cleaned.shape[0]}\")\n",
    "\n"
   ]
  },
  {
   "cell_type": "code",
   "execution_count": 4,
   "id": "7ab4f961-d27a-44ec-a3eb-19604ec043cf",
   "metadata": {},
   "outputs": [
    {
     "name": "stdout",
     "output_type": "stream",
     "text": [
      "Number of missing values in 'CodingActivities' column: 10971\n"
     ]
    }
   ],
   "source": [
    "# Count missing values in the 'CodingActivities' column\n",
    "missing_coding_activities = df['CodingActivities'].isnull().sum()\n",
    "\n",
    "# Display the result\n",
    "print(f\"Number of missing values in 'CodingActivities' column: {missing_coding_activities}\")\n"
   ]
  },
  {
   "cell_type": "code",
   "execution_count": 6,
   "id": "e638ff80-3561-497d-8894-82bdcda37e96",
   "metadata": {},
   "outputs": [
    {
     "name": "stdout",
     "output_type": "stream",
     "text": [
      "   ResponseId                      MainBranch                 Age  \\\n",
      "0           1  I am a developer by profession  Under 18 years old   \n",
      "1           2  I am a developer by profession     35-44 years old   \n",
      "2           3  I am a developer by profession     45-54 years old   \n",
      "3           4           I am learning to code     18-24 years old   \n",
      "4           5  I am a developer by profession     18-24 years old   \n",
      "\n",
      "            Employment RemoteWork   Check  \\\n",
      "0  Employed, full-time     Remote  Apples   \n",
      "1  Employed, full-time     Remote  Apples   \n",
      "2  Employed, full-time     Remote  Apples   \n",
      "3   Student, full-time        NaN  Apples   \n",
      "4   Student, full-time        NaN  Apples   \n",
      "\n",
      "                                    CodingActivities  \\\n",
      "0                                              Hobby   \n",
      "1  Hobby;Contribute to open-source projects;Other...   \n",
      "2  Hobby;Contribute to open-source projects;Other...   \n",
      "3  Hobby;Contribute to open-source projects;Other...   \n",
      "4  Hobby;Contribute to open-source projects;Other...   \n",
      "\n",
      "                                             EdLevel  \\\n",
      "0                          Primary/elementary school   \n",
      "1       Bachelor’s degree (B.A., B.S., B.Eng., etc.)   \n",
      "2    Master’s degree (M.A., M.S., M.Eng., MBA, etc.)   \n",
      "3  Some college/university study without earning ...   \n",
      "4  Secondary school (e.g. American high school, G...   \n",
      "\n",
      "                                           LearnCode  \\\n",
      "0                             Books / Physical media   \n",
      "1  Books / Physical media;Colleague;On the job tr...   \n",
      "2  Books / Physical media;Colleague;On the job tr...   \n",
      "3  Other online resources (e.g., videos, blogs, f...   \n",
      "4  Other online resources (e.g., videos, blogs, f...   \n",
      "\n",
      "                                     LearnCodeOnline  ... JobSatPoints_6  \\\n",
      "0                                                NaN  ...            NaN   \n",
      "1  Technical documentation;Blogs;Books;Written Tu...  ...            0.0   \n",
      "2  Technical documentation;Blogs;Books;Written Tu...  ...            NaN   \n",
      "3  Stack Overflow;How-to videos;Interactive tutorial  ...            NaN   \n",
      "4  Technical documentation;Blogs;Written Tutorial...  ...            NaN   \n",
      "\n",
      "  JobSatPoints_7 JobSatPoints_8 JobSatPoints_9 JobSatPoints_10  \\\n",
      "0            NaN            NaN            NaN             NaN   \n",
      "1            0.0            0.0            0.0             0.0   \n",
      "2            NaN            NaN            NaN             NaN   \n",
      "3            NaN            NaN            NaN             NaN   \n",
      "4            NaN            NaN            NaN             NaN   \n",
      "\n",
      "  JobSatPoints_11           SurveyLength SurveyEase ConvertedCompYearly JobSat  \n",
      "0             NaN                    NaN        NaN                 NaN    NaN  \n",
      "1             0.0                    NaN        NaN                 NaN    NaN  \n",
      "2             NaN  Appropriate in length       Easy                 NaN    NaN  \n",
      "3             NaN               Too long       Easy                 NaN    NaN  \n",
      "4             NaN              Too short       Easy                 NaN    NaN  \n",
      "\n",
      "[5 rows x 114 columns]\n"
     ]
    }
   ],
   "source": [
    "# Impute missing values in the 'CodingActivities' column using forward-fill\n",
    "df['CodingActivities'] = df['CodingActivities'].ffill()\n",
    "\n",
    "# Display the first few rows to confirm the imputation\n",
    "print(df.head())\n"
   ]
  },
  {
   "cell_type": "code",
   "execution_count": 7,
   "id": "44e95ea3-3391-483a-99d4-6cf58856b6f5",
   "metadata": {},
   "outputs": [
    {
     "name": "stdout",
     "output_type": "stream",
     "text": [
      "     ResponseId                                         MainBranch  \\\n",
      "72           73                     I am a developer by profession   \n",
      "374         375  I am not primarily a developer, but I write co...   \n",
      "379         380                     I am a developer by profession   \n",
      "385         386                     I am a developer by profession   \n",
      "389         390                     I am a developer by profession   \n",
      "\n",
      "                 Age                                         Employment  \\\n",
      "72   18-24 years old  Employed, full-time;Student, full-time;Indepen...   \n",
      "374  25-34 years old                                Employed, full-time   \n",
      "379  35-44 years old                                Employed, full-time   \n",
      "385  35-44 years old  Independent contractor, freelancer, or self-em...   \n",
      "389  25-34 years old             Employed, full-time;Student, part-time   \n",
      "\n",
      "                               RemoteWork   Check  \\\n",
      "72   Hybrid (some remote, some in-person)  Apples   \n",
      "374  Hybrid (some remote, some in-person)  Apples   \n",
      "379                                Remote  Apples   \n",
      "385                                Remote  Apples   \n",
      "389                                Remote  Apples   \n",
      "\n",
      "                                      CodingActivities  \\\n",
      "72   Hobby;School or academic work;Professional dev...   \n",
      "374  Hobby;School or academic work;Professional dev...   \n",
      "379                     Hobby;Bootstrapping a business   \n",
      "385                                              Hobby   \n",
      "389                      Hobby;School or academic work   \n",
      "\n",
      "                                               EdLevel  \\\n",
      "72   Secondary school (e.g. American high school, G...   \n",
      "374     Professional degree (JD, MD, Ph.D, Ed.D, etc.)   \n",
      "379    Master’s degree (M.A., M.S., M.Eng., MBA, etc.)   \n",
      "385    Master’s degree (M.A., M.S., M.Eng., MBA, etc.)   \n",
      "389  Some college/university study without earning ...   \n",
      "\n",
      "                                             LearnCode  \\\n",
      "72   On the job training;Other online resources (e....   \n",
      "374  Books / Physical media;Colleague;On the job tr...   \n",
      "379  Books / Physical media;Other online resources ...   \n",
      "385  Books / Physical media;On the job training;Oth...   \n",
      "389  Books / Physical media;Colleague;On the job tr...   \n",
      "\n",
      "                                       LearnCodeOnline  ... JobSatPoints_6  \\\n",
      "72   Technical documentation;Blogs;Written Tutorial...  ...           65.0   \n",
      "374  Written Tutorials;Stack Overflow;Written-based...  ...            NaN   \n",
      "379  Technical documentation;Books;Social Media;Wri...  ...            0.0   \n",
      "385  Technical documentation;Blogs;Written Tutorial...  ...            NaN   \n",
      "389  Written Tutorials;Stack Overflow;Coding sessio...  ...           20.0   \n",
      "\n",
      "    JobSatPoints_7 JobSatPoints_8 JobSatPoints_9 JobSatPoints_10  \\\n",
      "72           100.0          100.0          100.0            50.0   \n",
      "374            NaN            NaN            NaN             NaN   \n",
      "379            0.0            0.0            0.0             0.0   \n",
      "385            NaN            NaN            NaN             NaN   \n",
      "389           30.0            5.0           20.0            10.0   \n",
      "\n",
      "    JobSatPoints_11           SurveyLength                  SurveyEase  \\\n",
      "72             90.0               Too long                        Easy   \n",
      "374             NaN  Appropriate in length  Neither easy nor difficult   \n",
      "379             0.0               Too long                   Difficult   \n",
      "385             NaN              Too short                        Easy   \n",
      "389             5.0               Too long                        Easy   \n",
      "\n",
      "    ConvertedCompYearly JobSat  \n",
      "72               7322.0   10.0  \n",
      "374             30074.0    NaN  \n",
      "379             91295.0   10.0  \n",
      "385             53703.0    NaN  \n",
      "389            110000.0   10.0  \n",
      "\n",
      "[5 rows x 114 columns]\n"
     ]
    }
   ],
   "source": [
    "# Drop rows where 'ConvertedCompYearly' is NaN\n",
    "df.dropna(subset=['ConvertedCompYearly'], inplace=True)\n",
    "\n",
    "# Display the first few rows to ensure missing values are removed\n",
    "print(df.head())\n"
   ]
  },
  {
   "cell_type": "code",
   "execution_count": 8,
   "id": "d0ac4e8a-1301-468c-af4d-bbbbb9d57573",
   "metadata": {},
   "outputs": [
    {
     "name": "stdout",
     "output_type": "stream",
     "text": [
      "Index(['ResponseId', 'MainBranch', 'Age', 'Employment', 'RemoteWork', 'Check',\n",
      "       'CodingActivities', 'EdLevel', 'LearnCode', 'LearnCodeOnline',\n",
      "       ...\n",
      "       'JobSatPoints_6', 'JobSatPoints_7', 'JobSatPoints_8', 'JobSatPoints_9',\n",
      "       'JobSatPoints_10', 'JobSatPoints_11', 'SurveyLength', 'SurveyEase',\n",
      "       'ConvertedCompYearly', 'JobSat'],\n",
      "      dtype='object', length=114)\n",
      "     ConvertedCompYearly\n",
      "72                7322.0\n",
      "374              30074.0\n",
      "379              91295.0\n",
      "385              53703.0\n",
      "389             110000.0\n",
      "['CompTotal', 'AIComplex', 'ConvertedCompYearly']\n",
      "     CompTotal                                      AIComplex  \\\n",
      "72   2040000.0  Good, but not great at handling complex tasks   \n",
      "374    28000.0                                            NaN   \n",
      "379    85000.0                  Bad at handling complex tasks   \n",
      "385    50000.0                                            NaN   \n",
      "389   110000.0  Neither good or bad at handling complex tasks   \n",
      "\n",
      "     ConvertedCompYearly  \n",
      "72                7322.0  \n",
      "374              30074.0  \n",
      "379              91295.0  \n",
      "385              53703.0  \n",
      "389             110000.0  \n"
     ]
    }
   ],
   "source": [
    "# List all column names to check for compensation-related columns\n",
    "print(df.columns)\n",
    "\n",
    "# Check the first few rows to see the content of the columns\n",
    "print(df[['ConvertedCompYearly']].head())\n",
    "\n",
    "# Check for any other columns related to compensation (e.g., 'Salary', 'Comp', etc.)\n",
    "compensation_columns = [col for col in df.columns if 'Comp' in col or 'Salary' in col]\n",
    "print(compensation_columns)\n",
    "\n",
    "# Display the first few rows of these identified columns\n",
    "print(df[compensation_columns].head())\n"
   ]
  },
  {
   "cell_type": "code",
   "execution_count": 9,
   "id": "9e912f71-7125-43ee-8234-f229e31164fe",
   "metadata": {},
   "outputs": [
    {
     "name": "stdout",
     "output_type": "stream",
     "text": [
      "     ConvertedCompYearly  ConvertedCompYearly_MinMax\n",
      "72                7322.0                    0.000450\n",
      "374              30074.0                    0.001850\n",
      "379              91295.0                    0.005616\n",
      "385              53703.0                    0.003303\n",
      "389             110000.0                    0.006766\n"
     ]
    }
   ],
   "source": [
    "from sklearn.preprocessing import MinMaxScaler\n",
    "\n",
    "# Initialize the MinMaxScaler\n",
    "scaler = MinMaxScaler()\n",
    "\n",
    "# Apply Min-Max scaling to the 'ConvertedCompYearly' column\n",
    "df['ConvertedCompYearly_MinMax'] = scaler.fit_transform(df[['ConvertedCompYearly']])\n",
    "\n",
    "# Display the first few rows to check the result\n",
    "print(df[['ConvertedCompYearly', 'ConvertedCompYearly_MinMax']].head())\n"
   ]
  },
  {
   "cell_type": "code",
   "execution_count": 10,
   "id": "6c6b6632-3b44-4c93-b8b3-90a33f2df6b5",
   "metadata": {},
   "outputs": [
    {
     "name": "stdout",
     "output_type": "stream",
     "text": [
      "     ConvertedCompYearly  ConvertedCompYearly_Zscore\n",
      "72                7322.0                   -0.422117\n",
      "374              30074.0                   -0.300290\n",
      "379              91295.0                    0.027521\n",
      "385              53703.0                   -0.173767\n",
      "389             110000.0                    0.127678\n"
     ]
    }
   ],
   "source": [
    "# Calculate the mean and standard deviation of the 'ConvertedCompYearly' column\n",
    "mean_compensation = df['ConvertedCompYearly'].mean()\n",
    "std_compensation = df['ConvertedCompYearly'].std()\n",
    "\n",
    "# Apply Z-score normalization\n",
    "df['ConvertedCompYearly_Zscore'] = (df['ConvertedCompYearly'] - mean_compensation) / std_compensation\n",
    "\n",
    "# Display the first few rows to check the result\n",
    "print(df[['ConvertedCompYearly', 'ConvertedCompYearly_Zscore']].head())\n"
   ]
  },
  {
   "cell_type": "code",
   "execution_count": 11,
   "id": "59b530a9-d24e-4d37-9d05-0fb7811ff245",
   "metadata": {},
   "outputs": [
    {
     "data": {
      "image/png": "[encoded data removed]",
      "text/plain": [
       "<Figure size 1500x500 with 3 Axes>"
      ]
     },
     "metadata": {},
     "output_type": "display_data"
    }
   ],
   "source": [
    "import matplotlib.pyplot as plt\n",
    "import seaborn as sns\n",
    "\n",
    "# Set up the figure with 3 subplots\n",
    "plt.figure(figsize=(15, 5))\n",
    "\n",
    "# Histogram for the original ConvertedCompYearly\n",
    "plt.subplot(1, 3, 1)\n",
    "sns.histplot(df['ConvertedCompYearly'], kde=True, color='skyblue', bins=30)\n",
    "plt.title('Original ConvertedCompYearly')\n",
    "\n",
    "# Histogram for the Min-Max normalized ConvertedCompYearly\n",
    "plt.subplot(1, 3, 2)\n",
    "sns.histplot(df['ConvertedCompYearly_MinMax'], kde=True, color='lightgreen', bins=30)\n",
    "plt.title('Min-Max Normalized ConvertedCompYearly')\n",
    "\n",
    "# Histogram for the Z-score normalized ConvertedCompYearly\n",
    "plt.subplot(1, 3, 3)\n",
    "sns.histplot(df['ConvertedCompYearly_Zscore'], kde=True, color='salmon', bins=30)\n",
    "plt.title('Z-score Normalized ConvertedCompYearly')\n",
    "\n",
    "# Adjust layout for better display\n",
    "plt.tight_layout()\n",
    "plt.show()\n"
   ]
  },
  {
   "cell_type": "code",
   "execution_count": null,
   "id": "ca50cd2e-6e6c-4110-8268-1d53d73f277b",
   "metadata": {},
   "outputs": [],
   "source": []
  }
 ],
 "metadata": {
  "kernelspec": {
   "display_name": "Python 3 (ipykernel)",
   "language": "python",
   "name": "python3"
  },
  "language_info": {
   "codemirror_mode": {
    "name": "ipython",
    "version": 3
   },
   "file_extension": ".py",
   "mimetype": "text/x-python",
   "name": "python",
   "nbconvert_exporter": "python",
   "pygments_lexer": "ipython3",
   "version": "3.12.7"
  }
 },
 "nbformat": 4,
 "nbformat_minor": 5
}
